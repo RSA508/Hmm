{
 "cells": [
  {
   "cell_type": "code",
   "execution_count": 6,
   "id": "5985801e-db5d-45e0-881f-578892be9d75",
   "metadata": {},
   "outputs": [],
   "source": [
    "def universaltruth(x, y):\n",
    "    print(\"Tottenham is the King of London \" + x + \".\")\n",
    "    print(\"Jude Bellingham clears Gavi and Pedri \" + y + \".\")"
   ]
  },
  {
   "cell_type": "code",
   "execution_count": 7,
   "id": "9d3f04d9-2232-4974-9333-584a6d28bf5d",
   "metadata": {},
   "outputs": [
    {
     "name": "stdout",
     "output_type": "stream",
     "text": [
      "Tottenham is the King of London Red_Lead.\n",
      "Jude Bellingham clears Gavi and Pedri Atharva.\n"
     ]
    }
   ],
   "source": [
    "universaltruth(\"Red_Lead\", \"Atharva\")"
   ]
  },
  {
   "cell_type": "code",
   "execution_count": null,
   "id": "22e093f8-4263-4158-8d1d-f6386f3ecfbe",
   "metadata": {},
   "outputs": [],
   "source": []
  }
 ],
 "metadata": {
  "kernelspec": {
   "display_name": "Python 3 (ipykernel)",
   "language": "python",
   "name": "python3"
  },
  "language_info": {
   "codemirror_mode": {
    "name": "ipython",
    "version": 3
   },
   "file_extension": ".py",
   "mimetype": "text/x-python",
   "name": "python",
   "nbconvert_exporter": "python",
   "pygments_lexer": "ipython3",
   "version": "3.9.6"
  }
 },
 "nbformat": 4,
 "nbformat_minor": 5
}
