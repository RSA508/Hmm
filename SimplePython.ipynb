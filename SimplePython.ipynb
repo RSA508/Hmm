{
 "cells": [
  {
   "cell_type": "code",
   "execution_count": 2,
   "id": "5985801e-db5d-45e0-881f-578892be9d75",
   "metadata": {},
   "outputs": [],
   "source": [
    "def universaltruth(x, y):\n",
    "    print(\"Tottenham is the King of London \" + x + \" .\")\n",
    "    print(\"Jude Bellingham clears Gavi and Pedri \" + y + \" .\")"
   ]
  },
  {
   "cell_type": "code",
   "execution_count": null,
   "id": "9d3f04d9-2232-4974-9333-584a6d28bf5d",
   "metadata": {},
   "outputs": [],
   "source": [
    "universaltruth(\"\", \"\")"
   ]
  }
 ],
 "metadata": {
  "kernelspec": {
   "display_name": "Python 3 (ipykernel)",
   "language": "python",
   "name": "python3"
  },
  "language_info": {
   "codemirror_mode": {
    "name": "ipython",
    "version": 3
   },
   "file_extension": ".py",
   "mimetype": "text/x-python",
   "name": "python",
   "nbconvert_exporter": "python",
   "pygments_lexer": "ipython3",
   "version": "3.9.6"
  }
 },
 "nbformat": 4,
 "nbformat_minor": 5
}
